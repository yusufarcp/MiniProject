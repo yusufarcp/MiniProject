{
 "cells": [
  {
   "cell_type": "markdown",
   "id": "ead13b30",
   "metadata": {},
   "source": [
    "# Mini Calculator Program\n",
    "**Created by Yusuf Arico**\n",
    "\n",
    "A simple program to create mini calculator using class and function in python."
   ]
  },
  {
   "cell_type": "code",
   "execution_count": 1,
   "id": "029ccaa6",
   "metadata": {},
   "outputs": [],
   "source": [
    "#import Library\n",
    "from tkinter import *"
   ]
  },
  {
   "cell_type": "code",
   "execution_count": 24,
   "id": "6641b6a6",
   "metadata": {},
   "outputs": [],
   "source": [
    "#define mini calculator function(\n",
    "class Calc:\n",
    "    def __init__(self, master):\n",
    "        self.MathVariable = 0\n",
    "        self.Value = 0\n",
    "        self.master = master\n",
    "        \n",
    "        self.NumberEntry = Entry(self.master, width=50, borderwidth=5, justify=CENTER)\n",
    "        self.NumberEntry.grid(row=0, column=0, padx=10,pady=10, columnspan=5)\n",
    "        i,j=1,0\n",
    "        for btn in ['1','2','3','4','5','6','7','8','9','+','-','0','*','/','=']:\n",
    "            if i%4==0:\n",
    "                i=1\n",
    "                j+=1\n",
    "            Button(self.master,text=btn, width=5, command=lambda num =btn:self.BtnClick(num)).grid(row=i, column=j, ipadx=4)\n",
    "            i+=1\n",
    "        self.clear = Button(self.master, text='Clear', width=15, command=self.Clear).grid(row=5, columnspan=6, ipadx=70)\n",
    "        \n",
    "    def BtnClick(self, number):\n",
    "        if number == '=':\n",
    "            self.Equal()\n",
    "        else:\n",
    "            self.NumberEntry.insert(len(self.NumberEntry.get()) + 1, str(number))\n",
    "    \n",
    "    def Equal(self):\n",
    "        value1 = self.NumberEntry.get()\n",
    "        try:\n",
    "            value1 = eval(value1)\n",
    "            self.NumberEntry.deleted(0, END)\n",
    "            self.NumberEntry.insert(0, value1)\n",
    "        except Exception as e:\n",
    "            self.NumberEntry.delete(0, END)\n",
    "            self.NumberEntry.insert(0, e)\n",
    "            \n",
    "    def Clear(self):\n",
    "        self.NumberEntry.delete(0, END)\n",
    "        self.Value = 0"
   ]
  },
  {
   "cell_type": "code",
   "execution_count": 25,
   "id": "8946b477",
   "metadata": {},
   "outputs": [],
   "source": [
    "# Call for the program\n",
    "if __name__ == '__main__':\n",
    "    master = Tk()\n",
    "    master.title(\"@yusufarcp Mini Calculator\")\n",
    "   # master.iconbitmap('icon.ico')\n",
    "    master.geometry('350x200')\n",
    "    master.resizable(0,0)\n",
    "    Calc(master)\n",
    "    master.mainloop()"
   ]
  },
  {
   "cell_type": "markdown",
   "id": "d536699e",
   "metadata": {},
   "source": [
    "# Notes\n",
    "\n",
    "**This code can be run, but the mathematical proccess still doesnt work. I will upload this temporarily, will update later when all processes can run. Thank You.**"
   ]
  }
 ],
 "metadata": {
  "kernelspec": {
   "display_name": "py38",
   "language": "python",
   "name": "py38"
  },
  "language_info": {
   "codemirror_mode": {
    "name": "ipython",
    "version": 3
   },
   "file_extension": ".py",
   "mimetype": "text/x-python",
   "name": "python",
   "nbconvert_exporter": "python",
   "pygments_lexer": "ipython3",
   "version": "3.10.0"
  }
 },
 "nbformat": 4,
 "nbformat_minor": 5
}
