{
 "cells": [
  {
   "cell_type": "markdown",
   "id": "6514c636",
   "metadata": {},
   "source": [
    "# Password Generator Program\n",
    "**Created by Yusuf Arico**\n",
    "\n",
    "This is simple program to generate password based on the number of characters that we input before."
   ]
  },
  {
   "cell_type": "code",
   "execution_count": 1,
   "id": "5a9c2e36",
   "metadata": {},
   "outputs": [
    {
     "name": "stdout",
     "output_type": "stream",
     "text": [
      "Enter total character: 8\n",
      "cs4tJZrk\n"
     ]
    }
   ],
   "source": [
    "import random\n",
    "\n",
    "passwordinput = int(input(\"Enter total character: \"))\n",
    "\n",
    "# save alphabets, number, and special characters\n",
    "container = \"abcdefghijklmnopqrstuvwxyz0123456789ABCDEFGHIJKLMNOPQRSTUVWXYZ!@#$%^&*?\"\n",
    "\n",
    "# random sampling by joining the total input characters and container data\n",
    "rdm = \"\".join(random.sample(container, passwordinput))\n",
    "print(rdm)"
   ]
  },
  {
   "cell_type": "code",
   "execution_count": null,
   "id": "efbabe1a",
   "metadata": {},
   "outputs": [],
   "source": []
  }
 ],
 "metadata": {
  "kernelspec": {
   "display_name": "py38",
   "language": "python",
   "name": "py38"
  },
  "language_info": {
   "codemirror_mode": {
    "name": "ipython",
    "version": 3
   },
   "file_extension": ".py",
   "mimetype": "text/x-python",
   "name": "python",
   "nbconvert_exporter": "python",
   "pygments_lexer": "ipython3",
   "version": "3.10.0"
  }
 },
 "nbformat": 4,
 "nbformat_minor": 5
}
