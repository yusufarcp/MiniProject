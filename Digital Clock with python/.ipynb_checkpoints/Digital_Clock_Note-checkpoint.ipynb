{
 "cells": [
  {
   "cell_type": "markdown",
   "id": "fe5632cf",
   "metadata": {},
   "source": [
    "# Create Digital Clock Using Python\n",
    "**Created by Yusuf Arico**\n",
    "\n",
    "This is a simple program to create a digital clock using python."
   ]
  },
  {
   "cell_type": "code",
   "execution_count": 1,
   "id": "1c992966",
   "metadata": {},
   "outputs": [],
   "source": [
    "#import Library\n",
    "from tkinter import *\n",
    "from tkinter.ttk import *\n",
    "from time import strftime"
   ]
  },
  {
   "cell_type": "code",
   "execution_count": 2,
   "id": "f2be25b1",
   "metadata": {},
   "outputs": [
    {
     "data": {
      "text/plain": [
       "''"
      ]
     },
     "execution_count": 2,
     "metadata": {},
     "output_type": "execute_result"
    }
   ],
   "source": [
    "#Creating UI\n",
    "root = Tk()\n",
    "root.title(\"Clock\")"
   ]
  },
  {
   "cell_type": "code",
   "execution_count": 3,
   "id": "8a2bb6a2",
   "metadata": {},
   "outputs": [],
   "source": [
    "#Creating Label\n",
    "label = Label(root, font=('ds-digital', 150), background = 'black', foreground = 'red')\n",
    "label.pack(anchor='center')"
   ]
  },
  {
   "cell_type": "code",
   "execution_count": 4,
   "id": "338db97b",
   "metadata": {},
   "outputs": [],
   "source": [
    "#Define Clock function\n",
    "def clock():\n",
    "    string = strftime('%H:%M:%S %p')\n",
    "    label.config(text=string)\n",
    "    label.after(1000, clock)"
   ]
  },
  {
   "cell_type": "code",
   "execution_count": 5,
   "id": "532eb0a7",
   "metadata": {},
   "outputs": [],
   "source": [
    "clock()\n",
    "mainloop()"
   ]
  },
  {
   "cell_type": "code",
   "execution_count": null,
   "id": "6011007b",
   "metadata": {},
   "outputs": [],
   "source": []
  }
 ],
 "metadata": {
  "kernelspec": {
   "display_name": "py38",
   "language": "python",
   "name": "py38"
  },
  "language_info": {
   "codemirror_mode": {
    "name": "ipython",
    "version": 3
   },
   "file_extension": ".py",
   "mimetype": "text/x-python",
   "name": "python",
   "nbconvert_exporter": "python",
   "pygments_lexer": "ipython3",
   "version": "3.10.0"
  }
 },
 "nbformat": 4,
 "nbformat_minor": 5
}
