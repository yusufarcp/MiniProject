{
 "cells": [
  {
   "cell_type": "code",
   "execution_count": 1,
   "id": "7de2b4d0",
   "metadata": {},
   "outputs": [],
   "source": [
    "from tkinter import *\n",
    "import tkinter.messagebox"
   ]
  },
  {
   "cell_type": "code",
   "execution_count": 2,
   "id": "117c101f",
   "metadata": {},
   "outputs": [],
   "source": [
    "def slider(value):\n",
    "    r = red_Scale.get()\n",
    "    g = green_Scale.get()\n",
    "    b = blue_Scale.get()\n",
    "    rgb = f'{r},{g},{b}'\n",
    "    code = \"#%02x%02x%02x\" % (r,g,b)\n",
    "    colorlabel.config(bg=code)\n",
    "    rgb_entry.delete(0, END)\n",
    "    rgb_entry.insert(0, rgb)\n",
    "\n",
    "def onClick():\n",
    "    tkinter.messagebox.showinfo(\"Copy To Clipboard\",\"Your rgb color code (\"+rgb_entry.get()+\") is copied.\")\n",
    "    clip = Tk()\n",
    "    clip.withdraw()\n",
    "    clip.clipboard_clear()\n",
    "    clip.clipboard_append(rgb_entry.get())\n",
    "    clip.destroy()\n",
    "    \n",
    "root = Tk()\n",
    "root.title(\"Color Picker\")\n",
    "root.geometry(\"360x380+100+100\")\n",
    "colorlabel = Label(root, bg=\"black\", width=50, height=10, bd=1, relief=None)\n",
    "colorlabel.pack(pady=5)\n",
    "frame = Frame(root, bd=1, relief=None)\n",
    "frame.pack(pady=5)\n",
    "red_label = Label(frame, text=\"Red\", fg=\"red\", font=(\"Times New Roman\", 12, \"bold\"))\n",
    "red_label.grid(row=0, column=0)\n",
    "red_Scale = Scale(frame, from_=0, to=255, length=210, fg=\"red\", orient=HORIZONTAL,command=slider)\n",
    "red_Scale.grid(row=0, column=1)\n",
    "green_label = Label(frame, text=\"Green\", fg=\"green\", font=(\"Times New Roman\", 12, \"bold\"))\n",
    "green_label.grid(row=1, column=0)\n",
    "green_Scale = Scale(frame, from_=0, to=255, length=210, fg=\"green\", orient=HORIZONTAL,command=slider)\n",
    "green_Scale.grid(row=1, column=1)\n",
    "blue_label = Label(frame, text=\"Blue\", fg=\"blue\", font=(\"Times New Roman\", 12, \"bold\"))\n",
    "blue_label.grid(row=2, column=0)\n",
    "blue_Scale = Scale(frame, from_=0, to=255, length=210, fg=\"blue\", orient=HORIZONTAL,command=slider)\n",
    "blue_Scale.grid(row=2, column=1)\n",
    "frame2 = Frame(root, bd=1, relief=None)\n",
    "frame2.pack(pady=5)\n",
    "rgb_label = Label(frame2, text=\"RGB CODE :\", font=(\"Times New Roman\", 12, \"bold\"))\n",
    "rgb_label.grid(row=2, column=0)\n",
    "rgb_entry = Entry(frame2, width=12, font=(\"Times New Roman\", 12))\n",
    "rgb_entry.grid(row=2, column=1, padx=5)\n",
    "rgb_entry.insert(END, '')\n",
    "copy = Button(frame2, text=\"COPY\", font=(\"Times New Roman\", 12, \"bold\"), command = onClick)\n",
    "copy.grid(row=3, columnspan=2, pady=7)\n",
    "root.mainloop()"
   ]
  },
  {
   "cell_type": "code",
   "execution_count": null,
   "id": "ce521d8e",
   "metadata": {},
   "outputs": [],
   "source": []
  }
 ],
 "metadata": {
  "kernelspec": {
   "display_name": "py38",
   "language": "python",
   "name": "py38"
  },
  "language_info": {
   "codemirror_mode": {
    "name": "ipython",
    "version": 3
   },
   "file_extension": ".py",
   "mimetype": "text/x-python",
   "name": "python",
   "nbconvert_exporter": "python",
   "pygments_lexer": "ipython3",
   "version": "3.10.0"
  }
 },
 "nbformat": 4,
 "nbformat_minor": 5
}
