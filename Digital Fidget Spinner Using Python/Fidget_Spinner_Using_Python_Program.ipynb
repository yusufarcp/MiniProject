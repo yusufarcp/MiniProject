{
 "cells": [
  {
   "cell_type": "markdown",
   "id": "daa8fb07",
   "metadata": {},
   "source": [
    "# Fidget Spinner With Python\n",
    "**Created by Yusuf Arico**\n",
    "\n",
    "This is a simple program to create a digital fidget spinner game. To try program (play) just tap the **'spacebar'**"
   ]
  },
  {
   "cell_type": "code",
   "execution_count": 7,
   "id": "bdae445a",
   "metadata": {},
   "outputs": [
    {
     "name": "stderr",
     "output_type": "stream",
     "text": [
      "Exception in Tkinter callback\n",
      "Traceback (most recent call last):\n",
      "  File \"C:\\Users\\user\\anaconda3\\envs\\praktikumgeokom\\lib\\tkinter\\__init__.py\", line 1921, in __call__\n",
      "    return self.func(*args)\n",
      "  File \"C:\\Users\\user\\anaconda3\\envs\\praktikumgeokom\\lib\\tkinter\\__init__.py\", line 839, in callit\n",
      "    func(*args)\n",
      "  File \"C:\\Users\\user\\AppData\\Local\\Temp\\ipykernel_8168\\3012671806.py\", line 23, in animate\n",
      "    ontimer(animate, 20)\n",
      "  File \"<string>\", line 5, in ontimer\n",
      "turtle.Terminator\n"
     ]
    }
   ],
   "source": [
    "from turtle import *\n",
    "state = {'turn':0}\n",
    "def spinner():\n",
    "    clear()\n",
    "    angle = state['turn']/10\n",
    "    right(angle)\n",
    "    forward(100)\n",
    "    dot(150,'red')\n",
    "    back(100)\n",
    "    right(120)\n",
    "    forward(100)\n",
    "    dot(150,'green')\n",
    "    back(100)\n",
    "    right(120)\n",
    "    forward(100)\n",
    "    dot(150,'blue')\n",
    "    back(100)\n",
    "    right(120)\n",
    "    update()\n",
    "def animate():\n",
    "    if state['turn']>0:\n",
    "        state['turn']-=1\n",
    "    spinner()\n",
    "    ontimer(animate, 20)\n",
    "def flick():\n",
    "    state['turn']+=10\n",
    "setup(500,500,370,0)\n",
    "hideturtle()\n",
    "tracer(False)\n",
    "width(20)\n",
    "onkey(flick, 'space')\n",
    "listen()\n",
    "animate()\n",
    "done()"
   ]
  },
  {
   "cell_type": "code",
   "execution_count": null,
   "id": "913e82e2",
   "metadata": {},
   "outputs": [],
   "source": []
  }
 ],
 "metadata": {
  "kernelspec": {
   "display_name": "py38",
   "language": "python",
   "name": "py38"
  },
  "language_info": {
   "codemirror_mode": {
    "name": "ipython",
    "version": 3
   },
   "file_extension": ".py",
   "mimetype": "text/x-python",
   "name": "python",
   "nbconvert_exporter": "python",
   "pygments_lexer": "ipython3",
   "version": "3.10.0"
  }
 },
 "nbformat": 4,
 "nbformat_minor": 5
}
